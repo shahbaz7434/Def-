{
 "cells": [
  {
   "cell_type": "code",
   "execution_count": 26,
   "metadata": {},
   "outputs": [
    {
     "name": "stdout",
     "output_type": "stream",
     "text": [
      " enter you number_1:2\n",
      " eneter your number_2:4\n",
      "6\n"
     ]
    }
   ],
   "source": [
    "def add():   # here def is a keyword for functin # add() is a variable  # : for indention \n",
    "    num_1 = int(input(\" enter you number_1:\"))\n",
    "    num_2 = int(input(\" eneter your number_2:\"))\n",
    "    print(num_1+num_2)\n",
    "add()"
   ]
  },
  {
   "cell_type": "code",
   "execution_count": 5,
   "metadata": {},
   "outputs": [],
   "source": [
    "def sub():\n",
    "    number_1 = 2\n",
    "    number_2 = 3\n",
    "    print( number_1 - number_2)   # functions are always be in a silent mood until and unless you did not call.\n"
   ]
  },
  {
   "cell_type": "code",
   "execution_count": 6,
   "metadata": {},
   "outputs": [
    {
     "name": "stdout",
     "output_type": "stream",
     "text": [
      "-1\n"
     ]
    }
   ],
   "source": [
    "def sub():\n",
    "    number_1 = 2\n",
    "    number_2 = 3\n",
    "    print( number_1 - number_2) \n",
    "sub()    \n"
   ]
  },
  {
   "cell_type": "markdown",
   "metadata": {},
   "source": [
    "# function"
   ]
  },
  {
   "cell_type": "code",
   "execution_count": 7,
   "metadata": {},
   "outputs": [
    {
     "name": "stdout",
     "output_type": "stream",
     "text": [
      "5\n"
     ]
    }
   ],
   "source": [
    "def sub():\n",
    "    number_1 = 2\n",
    "    number_2 = 3\n",
    "    print( number_1 + number_2)  # always remember sub() is just a function \n",
    "sub()"
   ]
  },
  {
   "cell_type": "markdown",
   "metadata": {},
   "source": [
    "# function passing information and positional arguments"
   ]
  },
  {
   "cell_type": "code",
   "execution_count": 8,
   "metadata": {},
   "outputs": [
    {
     "name": "stdout",
     "output_type": "stream",
     "text": [
      " hello world!\n"
     ]
    }
   ],
   "source": [
    "def add():                              # parameter less function\n",
    "    print(\" hello world!\")\n",
    "add()\n"
   ]
  },
  {
   "cell_type": "code",
   "execution_count": 10,
   "metadata": {},
   "outputs": [
    {
     "name": "stdout",
     "output_type": "stream",
     "text": [
      "8\n"
     ]
    }
   ],
   "source": [
    "def add(a,b):               # parameterised function\n",
    "    print(a + b)\n",
    "add(3,5)                    # 3 will be assighned in \"a\" and 5 will be assighned in \"b\" # this is called possitional arguemnets \n",
    "                                           "
   ]
  },
  {
   "cell_type": "code",
   "execution_count": 12,
   "metadata": {},
   "outputs": [
    {
     "name": "stdout",
     "output_type": "stream",
     "text": [
      "600\n",
      "1000\n",
      "500\n"
     ]
    }
   ],
   "source": [
    "add(200,400)\n",
    "add(900,100)          # now you can call anytime this function whatever and whenever you want by using diffrent arguments\n",
    "add(300,200)     "
   ]
  },
  {
   "cell_type": "code",
   "execution_count": 16,
   "metadata": {},
   "outputs": [
    {
     "ename": "TypeError",
     "evalue": "add() missing 2 required positional arguments: 'a' and 'b'",
     "output_type": "error",
     "traceback": [
      "\u001b[1;31m---------------------------------------------------------------------------\u001b[0m",
      "\u001b[1;31mTypeError\u001b[0m                                 Traceback (most recent call last)",
      "\u001b[1;32m<ipython-input-16-bec4a9b2bb78>\u001b[0m in \u001b[0;36m<module>\u001b[1;34m\u001b[0m\n\u001b[1;32m----> 1\u001b[1;33m \u001b[0madd\u001b[0m\u001b[1;33m(\u001b[0m \u001b[1;33m)\u001b[0m   \u001b[1;31m# you can find the signature by press (shift+tab)\u001b[0m\u001b[1;33m\u001b[0m\u001b[1;33m\u001b[0m\u001b[0m\n\u001b[0m",
      "\u001b[1;31mTypeError\u001b[0m: add() missing 2 required positional arguments: 'a' and 'b'"
     ]
    }
   ],
   "source": [
    "add( )   # you can find the signature by press (shift+tab)\n"
   ]
  },
  {
   "cell_type": "code",
   "execution_count": 22,
   "metadata": {},
   "outputs": [
    {
     "name": "stdout",
     "output_type": "stream",
     "text": [
      "nedian\n"
     ]
    }
   ],
   "source": [
    "shahbaz = \"nedian\"                    # you can pass the arguments before def\n",
    "def fasih(shahbaz):                       # diffrent way to use function\n",
    " print(shahbaz)\n",
    "fasih(shahbaz)"
   ]
  },
  {
   "cell_type": "code",
   "execution_count": 21,
   "metadata": {},
   "outputs": [
    {
     "name": "stdout",
     "output_type": "stream",
     "text": [
      "nedian\n"
     ]
    }
   ],
   "source": [
    "def fasih(shahbaz):                   # diffrent way to use function\n",
    "    print(shahbaz)                    \n",
    "fasih(\"nedian\")                       # you can pass the arguments after def"
   ]
  },
  {
   "cell_type": "code",
   "execution_count": 25,
   "metadata": {},
   "outputs": [
    {
     "name": "stdout",
     "output_type": "stream",
     "text": [
      "nedian\n"
     ]
    }
   ],
   "source": [
    "def fasih(shahbaz):      # diffrent way to use function\n",
    "    shahbaz=\"nedian\"        # and you can also pass the argument between the function\n",
    "    print(shahbaz)                    \n",
    "fasih(\"nedian\")   "
   ]
  },
  {
   "cell_type": "markdown",
   "metadata": {},
   "source": [
    "# function passing information and keyword arguments"
   ]
  },
  {
   "cell_type": "code",
   "execution_count": 3,
   "metadata": {},
   "outputs": [
    {
     "name": "stdout",
     "output_type": "stream",
     "text": [
      "1\n"
     ]
    }
   ],
   "source": [
    "def sub(a,b):\n",
    "    print(a-b)\n",
    "sub(b=2,a=3)     # here is the keyword argument"
   ]
  },
  {
   "cell_type": "code",
   "execution_count": 4,
   "metadata": {},
   "outputs": [
    {
     "name": "stdout",
     "output_type": "stream",
     "text": [
      "muhammad  shahbaz  rajput\n"
     ]
    }
   ],
   "source": [
    "def fullname(first,middle,last):\n",
    "    print(first,middle,last)\n",
    "fullname(first = \"muhammad\", middle = \" shahbaz\", last= \" rajput\")"
   ]
  },
  {
   "cell_type": "code",
   "execution_count": 8,
   "metadata": {},
   "outputs": [
    {
     "name": "stdout",
     "output_type": "stream",
     "text": [
      "muhammad  rajput  shahbaz\n"
     ]
    }
   ],
   "source": [
    "def fullname(first,middle,last):\n",
    "    print(first,middle,last)\n",
    "\n",
    "fullname(first = \"muhammad\", middle = \" rajput\", last= \" shahbaz\") # here we change the middile and last"
   ]
  },
  {
   "cell_type": "code",
   "execution_count": 14,
   "metadata": {},
   "outputs": [
    {
     "name": "stdout",
     "output_type": "stream",
     "text": [
      "The couples name are kingi and queen\n"
     ]
    }
   ],
   "source": [
    "def what_is_the_couple_name(husband_name = \"king\", wife_name = \"queen\"):\n",
    "    print(f\"The couples name are {husband_name} and {wife_name}\")\n",
    "what_is_the_couple_name()"
   ]
  },
  {
   "cell_type": "markdown",
   "metadata": {},
   "source": [
    "# default parameters"
   ]
  },
  {
   "cell_type": "code",
   "execution_count": 10,
   "metadata": {},
   "outputs": [
    {
     "name": "stdout",
     "output_type": "stream",
     "text": [
      "2\n"
     ]
    }
   ],
   "source": [
    "def add(a,b=1): # here b=1 is default parameter\n",
    "    print(a+b)    \n",
    "add(1)      "
   ]
  },
  {
   "cell_type": "code",
   "execution_count": 12,
   "metadata": {},
   "outputs": [
    {
     "name": "stdout",
     "output_type": "stream",
     "text": [
      "3\n"
     ]
    }
   ],
   "source": [
    "def add(a,b=1): # here b=1 is default parameter\n",
    "    print(a+b)    \n",
    "add(1,2)      #  but if we pass the informatrion parameters will catch "
   ]
  },
  {
   "cell_type": "code",
   "execution_count": 20,
   "metadata": {},
   "outputs": [
    {
     "name": "stdout",
     "output_type": "stream",
     "text": [
      "muhammad  shahbaz rajput\n"
     ]
    }
   ],
   "source": [
    "def fullname(first,middle,last= \"rajput\"):   # default parameters\n",
    "    print(first,middle,last)              \n",
    "fullname(first = \"muhammad\", middle = \" shahbaz\")"
   ]
  },
  {
   "cell_type": "code",
   "execution_count": 22,
   "metadata": {},
   "outputs": [
    {
     "name": "stdout",
     "output_type": "stream",
     "text": [
      "muhammad  shahbaz  ali\n"
     ]
    }
   ],
   "source": [
    "def fullname(first,middle,last= \"rajput\"):   # default parameters\n",
    "    print(first,middle,last)              \n",
    "fullname(first = \"muhammad\", middle = \" shahbaz\", last = \" ali\") # now the default parameter will not work"
   ]
  },
  {
   "cell_type": "markdown",
   "metadata": {},
   "source": [
    "# dealing with unknown arguments or arbitary arguments:"
   ]
  },
  {
   "cell_type": "code",
   "execution_count": 3,
   "metadata": {},
   "outputs": [
    {
     "name": "stdout",
     "output_type": "stream",
     "text": [
      "your pizza size large, flavour chikken tikka and toppings ('ketchup', ' cold drink', ' spicy masala') are here! have a nice day!\n"
     ]
    }
   ],
   "source": [
    "def pizza_order(size, flavour, *toppings):\n",
    "    print(f\"your pizza size {size}, flavour {flavour} and toppings {toppings} are here! have a nice day!\")\n",
    "pizza_order(\"large\", \"chikken tikka\", \"ketchup\", \" cold drink\", \" spicy masala\")   "
   ]
  },
  {
   "cell_type": "code",
   "execution_count": 5,
   "metadata": {},
   "outputs": [
    {
     "ename": "TypeError",
     "evalue": "pizza_order() takes 3 positional arguments but 5 were given",
     "output_type": "error",
     "traceback": [
      "\u001b[1;31m---------------------------------------------------------------------------\u001b[0m",
      "\u001b[1;31mTypeError\u001b[0m                                 Traceback (most recent call last)",
      "\u001b[1;32m<ipython-input-5-276beabd29d3>\u001b[0m in \u001b[0;36m<module>\u001b[1;34m\u001b[0m\n\u001b[0;32m      1\u001b[0m \u001b[1;32mdef\u001b[0m \u001b[0mpizza_order\u001b[0m\u001b[1;33m(\u001b[0m\u001b[0msize\u001b[0m\u001b[1;33m,\u001b[0m \u001b[0mflavour\u001b[0m\u001b[1;33m,\u001b[0m \u001b[0mtoppings\u001b[0m\u001b[1;33m)\u001b[0m\u001b[1;33m:\u001b[0m \u001b[1;31m# if we do not use * (starick) so it will give error.\u001b[0m\u001b[1;33m\u001b[0m\u001b[1;33m\u001b[0m\u001b[0m\n\u001b[0;32m      2\u001b[0m     \u001b[0mprint\u001b[0m\u001b[1;33m(\u001b[0m\u001b[1;34mf\"your pizza size {size}, flavour {flavour} and toppings {toppings} are here! have a nice day!\"\u001b[0m\u001b[1;33m)\u001b[0m\u001b[1;33m\u001b[0m\u001b[1;33m\u001b[0m\u001b[0m\n\u001b[1;32m----> 3\u001b[1;33m \u001b[0mpizza_order\u001b[0m\u001b[1;33m(\u001b[0m\u001b[1;34m\"large\"\u001b[0m\u001b[1;33m,\u001b[0m \u001b[1;34m\"chikken tikka\"\u001b[0m\u001b[1;33m,\u001b[0m \u001b[1;34m\"ketchup\"\u001b[0m\u001b[1;33m,\u001b[0m \u001b[1;34m\" cold drink\"\u001b[0m\u001b[1;33m,\u001b[0m \u001b[1;34m\" spicy masala\"\u001b[0m\u001b[1;33m)\u001b[0m\u001b[1;31m# here, there are 2 exrta unknown arguments.\u001b[0m\u001b[1;33m\u001b[0m\u001b[1;33m\u001b[0m\u001b[0m\n\u001b[0m",
      "\u001b[1;31mTypeError\u001b[0m: pizza_order() takes 3 positional arguments but 5 were given"
     ]
    }
   ],
   "source": [
    "def pizza_order(size, flavour, toppings): # if we do not use * (starick) so it will give error.\n",
    "    print(f\"your pizza size {size}, flavour {flavour} and toppings {toppings} are here! have a nice day!\")\n",
    "pizza_order(\"large\", \"chikken tikka\", \"ketchup\", \" cold drink\", \" spicy masala\")# here, there are 2 exrta unknown arguments. "
   ]
  },
  {
   "cell_type": "code",
   "execution_count": 17,
   "metadata": {},
   "outputs": [
    {
     "name": "stdout",
     "output_type": "stream",
     "text": [
      "1 2\n"
     ]
    }
   ],
   "source": [
    "def c(a,b):\n",
    "    print(a,b)\n",
    "c(1,2,3) # here \"3\" is an unknown argument."
   ]
  },
  {
   "cell_type": "code",
   "execution_count": 18,
   "metadata": {},
   "outputs": [
    {
     "name": "stdout",
     "output_type": "stream",
     "text": [
      "1 (2, 3)\n"
     ]
    }
   ],
   "source": [
    "def c(a,*b):    # (*b) it will catch all the arguments after 1st argument\n",
    "    print(a,b)\n",
    "c(1,2,3) # here (2,3) will be stored in b"
   ]
  },
  {
   "cell_type": "markdown",
   "metadata": {},
   "source": [
    "# passing information back from them or use of return in function:"
   ]
  },
  {
   "cell_type": "code",
   "execution_count": 7,
   "metadata": {},
   "outputs": [
    {
     "data": {
      "text/plain": [
       "7"
      ]
     },
     "execution_count": 7,
     "metadata": {},
     "output_type": "execute_result"
    }
   ],
   "source": [
    "def c(a,b):\n",
    "    d= a + b\n",
    "    return d   # return is like the print but it is used only in function\n",
    "c(1,6)\n"
   ]
  },
  {
   "cell_type": "code",
   "execution_count": 9,
   "metadata": {},
   "outputs": [
    {
     "data": {
      "text/plain": [
       "(-1, 'hello python')"
      ]
     },
     "execution_count": 9,
     "metadata": {},
     "output_type": "execute_result"
    }
   ],
   "source": [
    "def c(a,b):\n",
    "    d = a - b\n",
    "    return d , \"hello python\"  # we can increse additional values which will be assigned in tuples.\n",
    "c(3,4)"
   ]
  },
  {
   "cell_type": "markdown",
   "metadata": {},
   "source": [
    "# using function as variables:"
   ]
  },
  {
   "cell_type": "code",
   "execution_count": 12,
   "metadata": {},
   "outputs": [
    {
     "data": {
      "text/plain": [
       "10"
      ]
     },
     "execution_count": 12,
     "metadata": {},
     "output_type": "execute_result"
    }
   ],
   "source": [
    "def add(a,b):\n",
    "    return a+b\n",
    "def sub(a,b):\n",
    "    return b-a\n",
    "result = add(4,5) + sub(4,5)\n",
    "# 10       9      +    1\n",
    "result"
   ]
  },
  {
   "cell_type": "code",
   "execution_count": 13,
   "metadata": {},
   "outputs": [
    {
     "ename": "SyntaxError",
     "evalue": "Missing parentheses in call to 'print'. Did you mean print(a+b)? (<ipython-input-13-b00088d9f192>, line 2)",
     "output_type": "error",
     "traceback": [
      "\u001b[1;36m  File \u001b[1;32m\"<ipython-input-13-b00088d9f192>\"\u001b[1;36m, line \u001b[1;32m2\u001b[0m\n\u001b[1;33m    print a+b\u001b[0m\n\u001b[1;37m          ^\u001b[0m\n\u001b[1;31mSyntaxError\u001b[0m\u001b[1;31m:\u001b[0m Missing parentheses in call to 'print'. Did you mean print(a+b)?\n"
     ]
    }
   ],
   "source": [
    "def add(a,b):\n",
    "    print a+b # if we use print instead of return, it will give error.\n",
    "def sub(a,b):\n",
    "    return b-a\n",
    "result = add(4,5) + sub(4,5)\n",
    "# error      none       +    1\n",
    "result"
   ]
  },
  {
   "cell_type": "markdown",
   "metadata": {},
   "source": [
    "# function local and global variables:"
   ]
  },
  {
   "cell_type": "code",
   "execution_count": 15,
   "metadata": {},
   "outputs": [
    {
     "name": "stdout",
     "output_type": "stream",
     "text": [
      "aasshh is happy today\n"
     ]
    },
    {
     "data": {
      "text/plain": [
       "<function __main__.name()>"
      ]
     },
     "execution_count": 15,
     "metadata": {},
     "output_type": "execute_result"
    }
   ],
   "source": [
    "def name():\n",
    "    name = \"aasshh\"   # local variable \n",
    "    print(f\"{name} is happy today\")\n",
    "name()\n",
    "name      # it will not execute without the body."
   ]
  },
  {
   "cell_type": "code",
   "execution_count": 19,
   "metadata": {},
   "outputs": [
    {
     "name": "stdout",
     "output_type": "stream",
     "text": [
      "aasshh is happy today\n"
     ]
    },
    {
     "data": {
      "text/plain": [
       "'aasshh'"
      ]
     },
     "execution_count": 19,
     "metadata": {},
     "output_type": "execute_result"
    }
   ],
   "source": [
    "anothername = \"aasshh\"   # global variable \n",
    "def name():\n",
    "    print(f\"{anothername} is happy today\")\n",
    "name()\n",
    "anothername      # it will execute without the body."
   ]
  },
  {
   "cell_type": "markdown",
   "metadata": {},
   "source": [
    "# function within the function:"
   ]
  },
  {
   "cell_type": "code",
   "execution_count": 40,
   "metadata": {},
   "outputs": [],
   "source": [
    "def income_tax_calculator(gross_salary):\n",
    "    if gross_salary< 400000:\n",
    "        return 0\n",
    "    elif gross_salary< 800000:\n",
    "        return 1000\n",
    "    elif gross_salary< 1200000:\n",
    "        return 2000\n",
    "    elif gross_salary<2400000:\n",
    "        return 30000\n",
    "    else:\n",
    "        return(\" not found\")\n",
    "    \n",
    "def salary(basic_pay,gross_Salary):\n",
    "    monthly_salary = basic_pay + income_tax_calculator(gross_salary)\n",
    "    print(f\"your monthly salary is {monthly_salary}\")\n",
    "\n",
    "    \n"
   ]
  },
  {
   "cell_type": "code",
   "execution_count": 41,
   "metadata": {},
   "outputs": [
    {
     "ename": "NameError",
     "evalue": "name 'gross_salary' is not defined",
     "output_type": "error",
     "traceback": [
      "\u001b[1;31m---------------------------------------------------------------------------\u001b[0m",
      "\u001b[1;31mNameError\u001b[0m                                 Traceback (most recent call last)",
      "\u001b[1;32m<ipython-input-41-fed67e6d9e37>\u001b[0m in \u001b[0;36m<module>\u001b[1;34m\u001b[0m\n\u001b[1;32m----> 1\u001b[1;33m \u001b[0msalary\u001b[0m\u001b[1;33m(\u001b[0m\u001b[1;36m12000\u001b[0m\u001b[1;33m,\u001b[0m\u001b[1;36m20000\u001b[0m\u001b[1;33m)\u001b[0m\u001b[1;33m\u001b[0m\u001b[1;33m\u001b[0m\u001b[0m\n\u001b[0m",
      "\u001b[1;32m<ipython-input-40-83fe5aaa688c>\u001b[0m in \u001b[0;36msalary\u001b[1;34m(basic_pay, gross_Salary)\u001b[0m\n\u001b[0;32m     12\u001b[0m \u001b[1;33m\u001b[0m\u001b[0m\n\u001b[0;32m     13\u001b[0m \u001b[1;32mdef\u001b[0m \u001b[0msalary\u001b[0m\u001b[1;33m(\u001b[0m\u001b[0mbasic_pay\u001b[0m\u001b[1;33m,\u001b[0m\u001b[0mgross_Salary\u001b[0m\u001b[1;33m)\u001b[0m\u001b[1;33m:\u001b[0m\u001b[1;33m\u001b[0m\u001b[1;33m\u001b[0m\u001b[0m\n\u001b[1;32m---> 14\u001b[1;33m     \u001b[0mmonthly_salary\u001b[0m \u001b[1;33m=\u001b[0m \u001b[0mbasic_pay\u001b[0m \u001b[1;33m+\u001b[0m \u001b[0mincome_tax_calculator\u001b[0m\u001b[1;33m(\u001b[0m\u001b[0mgross_salary\u001b[0m\u001b[1;33m)\u001b[0m\u001b[1;33m\u001b[0m\u001b[1;33m\u001b[0m\u001b[0m\n\u001b[0m\u001b[0;32m     15\u001b[0m     \u001b[0mprint\u001b[0m\u001b[1;33m(\u001b[0m\u001b[1;34mf\"your monthly salary is {monthly_salary}\"\u001b[0m\u001b[1;33m)\u001b[0m\u001b[1;33m\u001b[0m\u001b[1;33m\u001b[0m\u001b[0m\n\u001b[0;32m     16\u001b[0m \u001b[1;33m\u001b[0m\u001b[0m\n",
      "\u001b[1;31mNameError\u001b[0m: name 'gross_salary' is not defined"
     ]
    }
   ],
   "source": [
    "salary(12000,20000)"
   ]
  },
  {
   "cell_type": "code",
   "execution_count": null,
   "metadata": {},
   "outputs": [],
   "source": []
  }
 ],
 "metadata": {
  "kernelspec": {
   "display_name": "Python 3",
   "language": "python",
   "name": "python3"
  },
  "language_info": {
   "codemirror_mode": {
    "name": "ipython",
    "version": 3
   },
   "file_extension": ".py",
   "mimetype": "text/x-python",
   "name": "python",
   "nbconvert_exporter": "python",
   "pygments_lexer": "ipython3",
   "version": "3.7.3"
  }
 },
 "nbformat": 4,
 "nbformat_minor": 2
}
